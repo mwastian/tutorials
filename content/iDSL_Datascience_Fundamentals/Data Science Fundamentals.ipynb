{
 "cells": [
  {
   "cell_type": "markdown",
   "metadata": {},
   "source": [
    "# Overview"
   ]
  },
  {
   "cell_type": "markdown",
   "metadata": {},
   "source": [
    "## Relevant Python Libraries"
   ]
  },
  {
   "cell_type": "markdown",
   "metadata": {},
   "source": [
    "### Numeric Computing & DataFrames"
   ]
  },
  {
   "cell_type": "code",
   "execution_count": 8,
   "metadata": {},
   "outputs": [],
   "source": [
    "import numpy as np"
   ]
  },
  {
   "cell_type": "code",
   "execution_count": 9,
   "metadata": {},
   "outputs": [],
   "source": [
    "import pandas as pd"
   ]
  },
  {
   "cell_type": "markdown",
   "metadata": {},
   "source": [
    "### Plotting"
   ]
  },
  {
   "cell_type": "markdown",
   "metadata": {},
   "source": [
    "**Matplotlib & Seaborn**"
   ]
  },
  {
   "cell_type": "code",
   "execution_count": null,
   "metadata": {},
   "outputs": [],
   "source": [
    "%matplotlib "
   ]
  },
  {
   "cell_type": "markdown",
   "metadata": {},
   "source": [
    "**Plotly**"
   ]
  },
  {
   "cell_type": "code",
   "execution_count": null,
   "metadata": {},
   "outputs": [],
   "source": []
  },
  {
   "cell_type": "markdown",
   "metadata": {},
   "source": [
    "### General Requirements"
   ]
  },
  {
   "cell_type": "code",
   "execution_count": null,
   "metadata": {},
   "outputs": [],
   "source": []
  },
  {
   "cell_type": "markdown",
   "metadata": {},
   "source": [
    "### Conveniant Libraries"
   ]
  },
  {
   "cell_type": "markdown",
   "metadata": {},
   "source": [
    "TQDM\n",
    "\n",
    "https://pypi.org/project/tqdm/"
   ]
  },
  {
   "cell_type": "code",
   "execution_count": 17,
   "metadata": {},
   "outputs": [],
   "source": [
    "from tqdm import tqdm_notebook"
   ]
  },
  {
   "cell_type": "markdown",
   "metadata": {},
   "source": [
    "# Data"
   ]
  },
  {
   "cell_type": "markdown",
   "metadata": {},
   "source": [
    "## Download Data\n",
    "\n",
    "* https://www.backblaze.com/b2/hard-drive-test-data.html\n",
    "\n",
    "For this tutorial the data for 2017 will be used.\n",
    "\n",
    "* [docs_Q1_2017.zip](https://f001.backblazeb2.com/file/Backblaze-Hard-Drive-Data/docs_Q1_2017.zip) – 78 KB ZIP file, 106 KB on disk, 6 files\n",
    "* [data_Q1_2017.zip](https://f001.backblazeb2.com/file/Backblaze-Hard-Drive-Data/data_Q1_2017.zip) – 338.8 MB ZIP file, 1.74 GB on disk, 91 files.\n",
    "\n",
    "\n",
    "* [docs_Q2_2017.zip](https://f001.backblazeb2.com/file/Backblaze-Hard-Drive-Data/docs_Q2_2017.zip) – 78 KB ZIP file, 90 KB on disk, 5 files\n",
    "* [data_Q2_2017.zip](https://f001.backblazeb2.com/file/Backblaze-Hard-Drive-Data/data_Q2_2017.zip) – 386.7 MB ZIP file, 1.99 GB on disk, 91 files.\n",
    "\n",
    "\n",
    "* [docs_Q3_2017.zip](https://f001.backblazeb2.com/file/Backblaze-Hard-Drive-Data/docs_Q3_2017.zip) – 78 KB ZIP file, 106 KB on disk, 5 files\n",
    "* [data_Q3_2017.zip](https://f001.backblazeb2.com/file/Backblaze-Hard-Drive-Data/data_Q3_2017.zip) – 425.7 MB ZIP file, 2.13 GB on disk, 91 files.\n",
    "\n",
    "\n",
    "* [docs_Q4_2017.zip](https://f001.backblazeb2.com/file/Backblaze-Hard-Drive-Data/docs_Q4_2017.zip) – 78 KB ZIP file, 106 KB on disk, 5 files\n",
    "* [data_Q4_2017.zip](https://f001.backblazeb2.com/file/Backblaze-Hard-Drive-Data/data_Q4_2017.zip) – 465.2 MB ZIP file, 2.22 GB on disk, 92 files.\n",
    "\n",
    "### Post-process Data archives\n",
    "\n",
    "The HDD-data for 2017 is provided in four achives. Extract the content of these archives into the same directories. This will result in a separate CSV-file for each day."
   ]
  },
  {
   "cell_type": "code",
   "execution_count": 11,
   "metadata": {},
   "outputs": [],
   "source": [
    "DATA_PATH = \"D:/Data/PREDICTIVE_MAINTENANCE/Backblaze/2017/\""
   ]
  },
  {
   "cell_type": "markdown",
   "metadata": {},
   "source": [
    "### Loading Data"
   ]
  },
  {
   "cell_type": "code",
   "execution_count": 13,
   "metadata": {},
   "outputs": [],
   "source": [
    "import os   # access OS functions\n",
    "import glob # pathname matching"
   ]
  },
  {
   "cell_type": "code",
   "execution_count": null,
   "metadata": {},
   "outputs": [
    {
     "data": {
      "application/vnd.jupyter.widget-view+json": {
       "model_id": "78b8b2314d2f486c921c5a7bede8a37b",
       "version_major": 2,
       "version_minor": 0
      },
      "text/plain": [
       "HBox(children=(IntProgress(value=0, description='Load CSV-Data', max=365), HTML(value='')))"
      ]
     },
     "metadata": {},
     "output_type": "display_data"
    }
   ],
   "source": [
    "daywise_data = []\n",
    "\n",
    "csv_files_to_import = glob.glob(os.path.join(DATA_PATH, \"*.csv\"))\n",
    "\n",
    "for csv_filename in tqdm_notebook(csv_files_to_import, desc=\"Load CSV-Data\"):\n",
    "    \n",
    "    # use Pandas CSV-reader\n",
    "    data = pd.read_csv(csv_filename)\n",
    "    \n",
    "    # add this day to the list\n",
    "    daywise_data.append(data)"
   ]
  },
  {
   "cell_type": "markdown",
   "metadata": {},
   "source": [
    "## Data Input"
   ]
  },
  {
   "cell_type": "markdown",
   "metadata": {},
   "source": [
    "# Analysis / Inspection / Visualization"
   ]
  },
  {
   "cell_type": "markdown",
   "metadata": {},
   "source": [
    "# Hypothesis Building"
   ]
  },
  {
   "cell_type": "markdown",
   "metadata": {},
   "source": [
    "# Data Preparation"
   ]
  },
  {
   "cell_type": "markdown",
   "metadata": {},
   "source": [
    "# Missing Values"
   ]
  },
  {
   "cell_type": "markdown",
   "metadata": {},
   "source": [
    "# Experiment Design"
   ]
  },
  {
   "cell_type": "markdown",
   "metadata": {},
   "source": [
    "# Machine Learning"
   ]
  },
  {
   "cell_type": "markdown",
   "metadata": {},
   "source": [
    "# Evaluation"
   ]
  },
  {
   "cell_type": "markdown",
   "metadata": {},
   "source": [
    "# Parameter Tuning"
   ]
  },
  {
   "cell_type": "markdown",
   "metadata": {},
   "source": [
    "# Comparing"
   ]
  },
  {
   "cell_type": "markdown",
   "metadata": {},
   "source": [
    "# Significance Testing"
   ]
  },
  {
   "cell_type": "markdown",
   "metadata": {},
   "source": [
    "# Interpretation"
   ]
  },
  {
   "cell_type": "code",
   "execution_count": null,
   "metadata": {},
   "outputs": [],
   "source": []
  }
 ],
 "metadata": {
  "kernelspec": {
   "display_name": "Python 3",
   "language": "python",
   "name": "python3"
  },
  "language_info": {
   "codemirror_mode": {
    "name": "ipython",
    "version": 3
   },
   "file_extension": ".py",
   "mimetype": "text/x-python",
   "name": "python",
   "nbconvert_exporter": "python",
   "pygments_lexer": "ipython3",
   "version": "3.6.5"
  }
 },
 "nbformat": 4,
 "nbformat_minor": 2
}
